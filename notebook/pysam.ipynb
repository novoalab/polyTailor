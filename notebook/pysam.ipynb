{
 "cells": [
  {
   "cell_type": "code",
   "execution_count": 1,
   "id": "0e048d8d-f860-4651-aa17-19e97f44258a",
   "metadata": {},
   "outputs": [],
   "source": [
    "import pysam\n",
    "bam = \"/home/lpryszcz/cluster/rna_mods/N3Pseq/minimap2/N3PS_R9_YeastSequin_TGIRT.bam\"\n",
    "sam = pysam.AlignmentFile(bam)"
   ]
  },
  {
   "cell_type": "code",
   "execution_count": 2,
   "id": "7dca6753-9e2d-4909-b6dc-56558e57cde7",
   "metadata": {},
   "outputs": [],
   "source": [
    "analyse_first = 250\n",
    "for a in sam:\n",
    "    if a.flag&2304: continue\n",
    "    break"
   ]
  },
  {
   "cell_type": "code",
   "execution_count": 4,
   "id": "90054b0f-a4b5-4749-86e2-028094475776",
   "metadata": {},
   "outputs": [
    {
     "data": {
      "text/plain": [
       "(True, [(4, 68), (0, 19), (2, 3), (0, 136), (4, 156)])"
      ]
     },
     "execution_count": 4,
     "metadata": {},
     "output_type": "execute_result"
    }
   ],
   "source": [
    "a.is_reverse, a.cigar"
   ]
  },
  {
   "cell_type": "code",
   "execution_count": 10,
   "id": "fd8dc181-3d54-4c3e-bbfb-a719f4bc3a3b",
   "metadata": {},
   "outputs": [
    {
     "data": {
      "text/plain": [
       "156"
      ]
     },
     "execution_count": 10,
     "metadata": {},
     "output_type": "execute_result"
    }
   ],
   "source": [
    "idx = -1 if a.is_reverse else 0\n",
    "clipped = a.cigar[idx][1] if a.cigar[idx][0]==4 else 0; clipped"
   ]
  },
  {
   "cell_type": "code",
   "execution_count": 12,
   "id": "0fdb70fc-e1ca-461e-a894-8959567fd233",
   "metadata": {},
   "outputs": [
    {
     "data": {
      "text/plain": [
       "'GTGTACTTCGTTCAGTTACGTACTAAGGTTAACACAAAGACACCGACAACTTTCTTCAGCTTTTCTTCCGTCACTTGCCTGTCAGCTCTATCTTCTTTTTTTTTTTTTTTTTTTTTTTTTTTTTTTTTTTTTTTTTTTTTTTTTTTTTTTTTTTTT'"
      ]
     },
     "execution_count": 12,
     "metadata": {},
     "output_type": "execute_result"
    }
   ],
   "source": [
    "seq = a.get_forward_sequence()[:min(analyse_first, clipped)]; seq"
   ]
  },
  {
   "cell_type": "code",
   "execution_count": 13,
   "id": "944128ca-2c59-4e85-b7a0-5b05195e5904",
   "metadata": {},
   "outputs": [
    {
     "data": {
      "text/plain": [
       "'TTTTTTTTTTTTTTTGTGGG'"
      ]
     },
     "execution_count": 13,
     "metadata": {},
     "output_type": "execute_result"
    }
   ],
   "source": [
    "a.get_forward_sequence()[clipped-10:clipped+10]"
   ]
  },
  {
   "cell_type": "markdown",
   "id": "9a16909b-f72c-41a5-8dfa-af2423c72c85",
   "metadata": {},
   "source": [
    "### debug sequin\n",
    "\n",
    "```\n",
    "20c75d7d-82ac-466b-bb02-db150ac6e954    unknown -10.0   2.5     -1      0       TTCTTTTTTT              78      1.0     39=3S   R1_81_2|6|ext   0       \n",
    "fab94294-f681-4bc9-bf48-224eaf8a013c    unknown 32.2    2.2     106     116     AGCAGAGGAA      TTCTTTTTTT      78      1.0     39=3S   R1_81_2|6|ext   0       \n",
    "3ee3820b-8033-4e2c-b745-ab65addadf21    unknown -10.0   1.9     -1      0       ATCAAATTCT              60      0.897   18=1X1=3I16=3S  R1_81_2|6|ext   22      \n",
    "734ded81-f609-4d63-a478-3f0872bdb5ea    unknown -10.0   2.2     -1      0       CTTTTTTTTT              80      1.0     40=2S   R1_81_2|6|ext   0       \n",
    "bd7a4e03-68dd-489e-910f-feb38136737d    unknown 33.7    1.9     112     121     GGAGGTTGAA      TTCTTTTTT       76      0.951   36=1D2=1D3=1S   R1_81_2|6|ext   0       \n",
    "ac01be69-b74c-4cb3-a233-43532356dcf4    unknown -10.0   1.9     -1      0       TTTTTTTTTT              59      0.872   23=2I4=2D5=1I4=3S       R1_81_2|6|ext   0       \n",
    "4427338f-511d-44c7-ad55-9e417d7210e9    unknown -10.0   2.4     -1      0       CTTTTTTTTT              80      1.0     40=2S   R1_81_2|6|ext   0       \n",
    "```"
   ]
  },
  {
   "cell_type": "code",
   "execution_count": 157,
   "id": "db202f07-cb52-40f0-943f-155416a025b3",
   "metadata": {},
   "outputs": [],
   "source": [
    "import pysam\n",
    "bam = \"/home/lpryszcz/cluster/rna_mods/N3Pseq/minimap2/N3PS_R10_YeastSequin_Induro1.bam\"\n",
    "sam = pysam.AlignmentFile(bam)"
   ]
  },
  {
   "cell_type": "code",
   "execution_count": 158,
   "id": "da004609-48f4-4c52-92be-a1a91b2f2d6d",
   "metadata": {
    "scrolled": true
   },
   "outputs": [
    {
     "name": "stdout",
     "output_type": "stream",
     "text": [
      "7cdd9d6e-4d2b-4403-a9e9-44e9179d1d8e\t0\t#0\t43401\t60\t99S594M1I133M2D32M\t*\t0\t0\tTGTTTATGTCACTGTACTCGTATTTGCTAAGGTTAACTTACTACCCAGTGAACCTCCTCGCAGCACCTACTTGCCTGTCGCTCTATCTGCAGAGCAGAGTCATGATTTTTCCAAATAGTTCTTGCAAATGATGGCCATGCAGCTTTGACGGCAAGGACACCCTCTGCGTGGCTGGTATAGAGTTCTTCACCAGTGTTAGGGTCAAGAACAACTGCATCAATACCGAAGAAGGGGAATGAGGCAGAACCCGGTTTCATTGGTGTGACACCACCAGCCAGCGGGGTGACCAGATGCGAACCAGATTCTGTTTGCCAGTAGGTGTCTACAATGGGGATTTCATTTTTACCTATTTTTTCAGAGTACCACTCCCAAACTTCAGCAGCAATTGGTTCACCGACCGAACCCAAGCAACGCAAAGATTTTAAGGAATGATTTTCGATGTAGGAATCACCAGCTCTTTTCAACAAACGCAAAGCAGTTGGGGCAACATAAAATTGGGTGACTTTGTGTTCATCAATAATATCCCAATAACGGGAGTAATTTGGGTACGCAGGAGTCCCTTCAAAGACCAAAGTGGCACAACCATATAGTAAGGGACCATAAACCACATAAGTGTGGCCTGTAATCCAGCCAATGTCTCCAGCTGTGAAGAAAACGTCTTCTTGGTGAGTGTCAAAAGTGTAGCGCATGGTCGAACAAAGCTCCCAGCAAGTAACCTGCGGTAGAATGTTGAACACCCTTGGGGGCACCAGTAGAACCAGACGTATACAACAAGAATAATGGATCCTCAGAATCAACGGGTGTGCATGGATAGTAGGTCTTGTATTTTCTTTTCTGTTGCCCAATCTAAATCTCTGGG\tarray('B', [6, 7, 12, 10, 6, 5, 5, 7, 11, 9, 8, 7, 8, 8, 9, 10, 11, 10, 6, 4, 3, 2, 4, 10, 14, 10, 12, 24, 28, 27, 27, 26, 26, 26, 26, 27, 28, 31, 34, 36, 36, 36, 34, 32, 32, 30, 27, 27, 34, 37, 38, 38, 39, 39, 39, 37, 37, 37, 39, 38, 38, 40, 44, 50, 50, 50, 42, 39, 46, 50, 50, 50, 40, 43, 50, 50, 50, 50, 46, 49, 50, 50, 47, 50, 46, 46, 44, 40, 41, 39, 41, 44, 50, 47, 44, 38, 38, 38, 38, 38, 35, 39, 38, 42, 50, 50, 50, 50, 50, 50, 50, 50, 43, 50, 50, 50, 50, 50, 50, 50, 49, 50, 50, 50, 50, 50, 50, 50, 50, 50, 50, 50, 50, 50, 48, 45, 49, 50, 50, 50, 45, 43, 50, 43, 39, 39, 42, 45, 50, 50, 48, 45, 50, 50, 50, 50, 46, 40, 41, 38, 42, 34, 30, 28, 28, 18, 19, 15, 15, 15, 16, 18, 27, 25, 27, 27, 26, 26, 8, 8, 8, 7, 7, 9, 16, 16, 26, 24, 24, 27, 38, 45, 50, 50, 46, 50, 50, 43, 50, 50, 50, 50, 47, 38, 40, 37, 38, 38, 38, 25, 24, 24, 24, 21, 26, 24, 24, 25, 32, 34, 33, 34, 48, 50, 50, 42, 44, 50, 43, 44, 40, 45, 45, 47, 36, 40, 40, 26, 25, 25, 25, 25, 32, 32, 37, 39, 39, 44, 50, 50, 44, 44, 46, 36, 34, 34, 34, 34, 50, 50, 50, 50, 50, 46, 50, 50, 48, 50, 50, 50, 50, 50, 50, 50, 44, 43, 50, 50, 50, 48, 50, 50, 50, 50, 50, 47, 47, 50, 30, 30, 30, 30, 31, 42, 26, 25, 25, 20, 20, 34, 37, 39, 37, 40, 38, 21, 33, 41, 44, 43, 21, 22, 50, 50, 50, 50, 46, 50, 50, 50, 45, 50, 45, 50, 44, 43, 42, 50, 50, 40, 42, 50, 50, 50, 50, 50, 50, 50, 50, 50, 50, 50, 50, 50, 50, 50, 50, 50, 49, 27, 27, 50, 45, 48, 41, 50, 40, 37, 37, 37, 37, 50, 44, 45, 50, 41, 50, 43, 41, 39, 38, 50, 50, 50, 50, 50, 50, 50, 50, 50, 48, 50, 50, 46, 50, 47, 49, 39, 38, 40, 38, 40, 32, 31, 31, 19, 18, 18, 18, 18, 27, 50, 50, 42, 50, 45, 50, 50, 50, 46, 50, 50, 44, 50, 50, 50, 50, 50, 50, 50, 50, 50, 50, 50, 50, 50, 50, 50, 50, 50, 50, 50, 48, 46, 50, 50, 50, 50, 50, 50, 46, 50, 43, 50, 43, 36, 35, 35, 35, 36, 39, 50, 44, 41, 43, 50, 44, 45, 50, 50, 50, 40, 50, 50, 50, 47, 50, 50, 50, 50, 50, 40, 43, 50, 50, 50, 44, 50, 50, 50, 48, 50, 50, 50, 50, 45, 46, 40, 41, 40, 44, 41, 36, 36, 36, 37, 31, 31, 29, 30, 23, 21, 18, 18, 18, 18, 18, 27, 27, 29, 30, 38, 39, 50, 48, 50, 50, 50, 42, 50, 50, 32, 38, 35, 36, 50, 27, 46, 42, 43, 47, 42, 32, 30, 32, 32, 43, 40, 42, 43, 42, 43, 50, 44, 48, 48, 39, 50, 50, 41, 40, 37, 37, 38, 37, 39, 40, 33, 27, 25, 19, 20, 13, 11, 10, 10, 19, 33, 38, 39, 39, 46, 50, 50, 50, 39, 37, 36, 38, 38, 39, 41, 41, 50, 49, 42, 29, 15, 15, 8, 8, 9, 36, 35, 50, 50, 50, 50, 50, 49, 50, 50, 50, 50, 50, 50, 44, 40, 41, 50, 50, 42, 39, 39, 39, 50, 41, 38, 37, 37, 38, 39, 50, 50, 42, 43, 49, 50, 39, 37, 37, 37, 38, 37, 50, 41, 50, 47, 50, 50, 50, 44, 50, 50, 50, 50, 50, 50, 49, 50, 50, 50, 50, 50, 50, 50, 49, 50, 42, 44, 41, 50, 50, 50, 50, 50, 50, 42, 50, 50, 50, 50, 50, 50, 50, 50, 50, 50, 50, 50, 46, 50, 42, 47, 35, 35, 35, 15, 14, 12, 12, 12, 16, 14, 9, 9, 8, 8, 13, 20, 19, 13, 14, 13, 14, 15, 14, 14, 22, 36, 43, 40, 39, 43, 50, 50, 50, 50, 43, 50, 43, 48, 46, 41, 40, 40, 42, 49, 40, 39, 38, 30, 30, 33, 33, 34, 50, 39, 42, 38, 41, 40, 39, 44, 50, 50, 50, 45, 44, 41, 44, 50, 50, 46, 50, 50, 50, 50, 50, 44, 50, 50, 50, 35, 34, 35, 34, 34, 50, 41, 41, 46, 30, 23, 21, 19, 19, 12, 12, 13, 26, 21, 22, 19, 19, 17, 17, 17, 18, 17, 18, 18, 18, 20, 27, 30, 35, 33, 33, 36, 37, 38, 44, 50, 44, 41, 50, 50, 50, 42, 42, 50, 37, 35, 41, 33, 30, 30, 28, 25, 28, 31, 21, 21, 23, 21, 15, 10, 6, 6, 6, 7, 8, 9, 13, 16, 18, 29, 30, 29, 29, 29, 39, 35, 36, 35, 33, 34, 33, 37, 34, 32, 32, 32, 32, 31, 17, 16, 15])\t[('NM', 10), ('ms', 731), ('AS', 731), ('nn', 0), ('tp', 'P'), ('cm', 225), ('s1', 728), ('s2', 0), ('de', 0.011800000444054604), ('rl', 0), ('ts', 10), ('mv', array('b', [6, 1, 0, 0, 1, 0, 0, 0, 0, 0, 0, 0, 0, 1, 0, 1, 0, 0, 0, 0, 0, 0, 0, 0, 0, 1, 0, 0, 1, 0, 0, 0, 0, 1, 1, 0, 0, 0, 0, 0, 0, 0, 0, 1, 1, 0, 0, 0, 0, 0, 0, 1, 0, 1, 0, 1, 1, 0, 0, 0, 0, 0, 0, 1, 1, 0, 0, 0, 0, 0, 0, 0, 0, 0, 0, 1, 0, 0, 0, 1, 0, 0, 1, 0, 0, 1, 0, 0, 0, 0, 0, 0, 0, 1, 0, 0, 1, 0, 0, 0, 0, 0, 0, 0, 0, 0, 0, 0, 0, 0, 0, 0, 0, 0, 0, 0, 0, 0, 0, 0, 0, 0, 0, 0, 0, 0, 0, 1, 0, 0, 0, 0, 0, 0, 0, 1, 0, 1, 1, 0, 0, 1, 0, 1, 1, 0, 0, 0, 0, 1, 0, 1, 0, 1, 0, 0, 0, 1, 0, 1, 1, 1, 0, 1, 0, 1, 0, 0, 0, 1, 1, 0, 0, 0, 0, 0, 0, 1, 0, 1, 1, 1, 1, 1, 1, 1, 0, 1, 1, 0, 0, 1, 0, 0, 0, 0, 0, 1, 0, 1, 0, 1, 0, 1, 1, 0, 0, 1, 0, 1, 1, 0, 0, 0, 0, 1, 0, 0, 0, 1, 1, 0, 0, 1, 0, 1, 1, 0, 0, 1, 0, 1, 0, 1, 1, 0, 0, 1, 0, 0, 0, 1, 0, 0, 0, 1, 1, 1, 0, 1, 0, 1, 1, 0, 0, 1, 1, 1, 0, 1, 0, 0, 0, 1, 1, 0, 0, 0, 0, 1, 1, 0, 0, 0, 0, 1, 1, 0, 0, 0, 0, 1, 1, 0, 0, 1, 1, 0, 0, 1, 0, 1, 0, 1, 0, 1, 1, 1, 0, 1, 1, 1, 1, 1, 0, 1, 1, 0, 0, 0, 0, 1, 0, 1, 0, 1, 0, 0, 0, 1, 0, 1, 0, 0, 0, 1, 1, 0, 0, 0, 0, 1, 1, 0, 0, 1, 0, 1, 0, 1, 1, 0, 0, 0, 0, 1, 0, 1, 0, 1, 1, 0, 0, 1, 0, 0, 0, 1, 1, 0, 0, 0, 0, 1, 1, 1, 0, 1, 0, 1, 1, 0, 0, 0, 0, 0, 0, 1, 0, 1, 1, 1, 0, 1, 0, 1, 1, 0, 0, 1, 1, 1, 1, 0, 0, 1, 0, 1, 0, 1, 1, 1, 1, 1, 0, 1, 1, 0, 0, 1, 0, 1, 1, 0, 0, 1, 0, 0, 0, 1, 0, 1, 0, 1, 0, 0, 0, 1, 1, 0, 0, 1, 0, 1, 0, 1, 0, 1, 1, 0, 0, 1, 1, 0, 0, 1, 1, 1, 1, 1, 0, 0, 0, 1, 0, 0, 0, 1, 1, 1, 1, 1, 1, 1, 1, 1, 0, 1, 0, 1, 0, 1, 1, 0, 0, 1, 0, 0, 0, 1, 1, 0, 0, 1, 0, 1, 0, 1, 1, 0, 0, 1, 0, 1, 1, 0, 0, 1, 0, 1, 1, 0, 0, 0, 0, 1, 0, 1, 0, 1, 0, 1, 1, 0, 0, 1, 0, 0, 0, 0, 0, 1, 0, 1, 0, 1, 0, 1, 0, 1, 1, 0, 0, 0, 0, 1, 0, 1, 0, 1, 1, 0, 0, 1, 1, 0, 0, 1, 1, 0, 0, 1, 0, 0, 0, 1, 0, 1, 1, 0, 0, 0, 0, 0, 0, 1, 0, 0, 0, 1, 1, 0, 0, 1, 0, 0, 0, 1, 0, 0, 0, 0, 0, 1, 0, 0, 0, 1, 0, 1, 0, 1, 0, 1, 0, 0, 0, 1, 0, 1, 0, 0, 0, 1, 0, 1, 0, 1, 1, 0, 0, 1, 0, 0, 0, 0, 0, 1, 0, 0, 0, 0, 0, 1, 0, 0, 0, 0, 0, 1, 1, 0, 0, 1, 0, 1, 0, 1, 0, 1, 0, 1, 0, 1, 1, 0, 0, 1, 0, 1, 0, 0, 0, 1, 0, 1, 1, 0, 0, 1, 0, 1, 0, 1, 1, 1, 0, 1, 1, 0, 0, 0, 0, 1, 1, 0, 0, 1, 0, 0, 0, 1, 1, 0, 0, 0, 0, 1, 0, 1, 1, 0, 0, 0, 0, 0, 0, 0, 0, 1, 0, 0, 0, 1, 1, 0, 0, 0, 0, 0, 0, 0, 0, 0, 0, 0, 0, 0, 0, 1, 0, 1, 0, 0, 0, 1, 1, 0, 0, 0, 0, 0, 0, 1, 0, 0, 0, 1, 1, 0, 0, 0, 0, 0, 0, 0, 0, 0, 0, 0, 0, 0, 0, 0, 0, 0, 0, 0, 0, 1, 0, 0, 0, 0, 0, 0, 0, 1, 0, 0, 0, 1, 0, 0, 0, 1, 1, 0, 0, 0, 0, 0, 0, 1, 0, 1, 0, 1, 1, 0, 0, 1, 0, 1, 0, 1, 1, 0, 0, 0, 0, 0, 0, 1, 1, 0, 0, 1, 0, 1, 0, 1, 0, 1, 1, 0, 0, 0, 0, 1, 0, 1, 0, 1, 0, 0, 0, 1, 0, 1, 0, 1, 0, 0, 0, 1, 0, 0, 0, 1, 0, 0, 0, 1, 0, 1, 1, 1, 0, 1, 1, 1, 0, 1, 1, 0, 0, 1, 0, 1, 0, 1, 1, 0, 0, 1, 1, 0, 0, 0, 0, 1, 1, 0, 0, 1, 1, 0, 0, 0, 0, 1, 0, 1, 1, 0, 0, 1, 0, 0, 0, 1, 0, 1, 0, 1, 0, 1, 0, 1, 0, 1, 1, 0, 0, 1, 0, 1, 0, 0, 0, 1, 0, 1, 0, 1, 0, 1, 1, 0, 0, 1, 0, 1, 0, 1, 1, 0, 0, 0, 0, 0, 0, 0, 0, 0, 0, 1, 0, 0, 0, 0, 0, 1, 0, 0, 0, 1, 0, 1, 0, 0, 0, 1, 0, 1, 1, 1, 1, 1, 1, 1, 1, 1, 0, 1, 1, 1, 0, 1, 1, 0, 0, 1, 0, 0, 0, 1, 1, 0, 0, 1, 0, 1, 0, 1, 0, 1, 0, 0, 0, 1, 1, 0, 0, 0, 0, 0, 0, 0, 0, 1, 0, 0, 0, 0, 0, 1, 0, 0, 0, 1, 1, 0, 0, 1, 0, 0, 0, 1, 1, 0, 0, 1, 0, 0, 0, 1, 0, 0, 0, 1, 1, 0, 0, 1, 0, 1, 0, 0, 0, 1, 1, 0, 0, 1, 0, 1, 0, 1, 1, 0, 0, 0, 0, 0, 0, 1, 0, 1, 0, 0, 0, 0, 0, 0, 0, 0, 0, 1, 1, 0, 0, 1, 0, 1, 0, 1, 1, 0, 0, 0, 0, 0, 0, 1, 1, 0, 0, 0, 0, 1, 0, 1, 0, 0, 0, 1, 1, 0, 0, 0, 0, 1, 0, 1, 1, 0, 0, 1, 1, 0, 0, 0, 0, 1, 0, 1, 0, 1, 0, 1, 0, 1, 0, 1, 0, 1, 0, 1, 1, 0, 0, 0, 0, 1, 0, 0, 0, 1, 0, 1, 0, 0, 0, 1, 0, 1, 0, 0, 0, 1, 1, 0, 0, 1, 0, 1, 1, 0, 0, 1, 0, 1, 1, 1, 0, 1, 0, 1, 1, 0, 0, 1, 1, 0, 0, 0, 0, 0, 0, 1, 1, 1, 0, 1, 0, 1, 1, 1, 0, 1, 0, 1, 1, 0, 0, 1, 0, 1, 0, 1, 1, 0, 0, 0, 0, 1, 0, 1, 0, 1, 0, 0, 0, 1, 1, 0, 0, 0, 0, 1, 0, 0, 0, 1, 0, 1, 1, 0, 0, 0, 0, 1, 0, 0, 0, 1, 0, 0, 0, 1, 1, 0, 0, 0, 0, 1, 1, 1, 0, 1, 0, 1, 0, 1, 1, 0, 0, 0, 0, 1, 0, 1, 0, 1, 1, 0, 0, 1, 0, 1, 1, 1, 1, 0, 0, 0, 0, 0, 0, 1, 0, 0, 0, 1, 1, 0, 0, 1, 1, 0, 0, 0, 0, 1, 0, 1, 0, 1, 0, 1, 0, 1, 1, 0, 0, 1, 0, 0, 0, 0, 0, 1, 0, 1, 1, 0, 0, 1, 0, 1, 0, 0, 0, 1, 0, 1, 0, 1, 1, 0, 0, 0, 0, 0, 0, 1, 1, 0, 0, 1, 0, 1, 1, 0, 0, 0, 0, 0, 0, 1, 0, 1, 1, 0, 0, 1, 0, 1, 0, 1, 1, 0, 0, 1, 0, 0, 0, 0, 0, 1, 1, 0, 0, 0, 0, 0, 0, 0, 0, 1, 1, 0, 0, 0, 0, 0, 0, 0, 0, 0, 0, 0, 0, 0, 0, 0, 0, 0, 0, 0, 0, 0, 0, 0, 0, 0, 0, 0, 0, 0, 0, 0, 0, 0, 0, 0, 0, 0, 0, 0, 0, 0, 0, 0, 0, 0, 0, 0, 0, 0, 0, 0, 0, 0, 0, 0, 0, 0, 0, 0, 0, 0, 0, 0, 0, 0, 0, 0, 0, 0, 0, 0, 0, 0, 0, 0, 0, 0, 0, 0, 0, 0, 0, 0, 0, 0, 0, 0, 0, 0, 0, 0, 0, 0, 0, 0, 0, 0, 0, 0, 0, 0, 0, 0, 0, 0, 0, 0, 0, 0, 0, 0, 0, 1, 0, 0, 0, 1, 1, 0, 0, 0, 0, 0, 0, 0, 0, 0, 0, 0, 0, 0, 0, 0, 0, 0, 0, 0, 0, 1, 0, 1, 1, 0, 0, 0, 0, 1, 0, 0, 0, 1, 1, 0, 0, 0, 0, 0, 0, 0, 0, 0, 0, 0, 0, 0, 0, 0, 0, 0, 0, 0, 0, 0, 0, 0, 0, 0, 0, 0, 0, 0, 0, 0, 0, 0, 0, 0, 0, 0, 0, 0, 1, 0, 0, 0, 0, 0, 1, 0, 0, 0, 1, 0, 0, 0, 1, 0, 1, 1, 0, 0, 0, 0, 0, 0, 0, 0, 0, 0, 0, 0, 0, 0, 1, 0, 0, 0, 1, 0, 0, 0, 0, 0, 1, 0, 0, 0, 0, 0, 0, 0, 0, 0, 0, 0, 0, 0, 1, 1, 0, 0, 0, 0, 0, 0, 0, 0, 1, 0, 0, 0, 0, 0, 1, 0, 0, 0, 0, 0, 0, 0, 0, 0, 1, 1, 0, 0, 1, 1, 0, 0, 1, 1, 1, 0, 1, 0, 0, 0, 1, 0, 0, 0, 0, 0, 0, 0, 0, 0, 0, 0, 1, 0, 1, 1, 0, 0, 0, 0, 0, 0, 1, 0, 0, 0, 0, 0, 1, 0, 0, 0, 1, 0, 0, 0, 0, 0, 0, 0, 0, 0, 0, 0, 0, 0, 0, 0, 0, 0, 0, 0, 0, 0, 0, 0, 0, 0, 1, 1, 0, 0, 0, 0, 0, 0, 0, 0, 0, 0, 0, 0, 0, 0, 0, 0, 0, 0, 0, 0, 0, 0, 0, 0, 0, 0, 0, 0, 0, 0, 0, 0, 0, 0, 0, 0, 0, 0, 0, 0, 0, 0, 0, 0, 0, 0, 0, 0, 0, 0, 0, 0, 0, 0, 0, 0, 0, 0, 0, 0, 0, 0, 0, 0, 0, 0, 0, 0, 0, 0, 0, 0, 0, 0, 0, 0, 0, 0, 0, 0, 0, 0, 0, 0, 0, 0, 0, 0, 0, 0, 0, 0, 0, 0, 0, 0, 0, 0, 0, 0, 0, 0, 0, 0, 0, 0, 0, 0, 0, 0, 0, 0, 0, 0, 0, 0, 0, 0, 0, 0, 0, 0, 0, 0, 0, 0, 0, 0, 0, 0, 0, 0, 0, 0, 0, 0, 0, 0, 0, 0, 0, 0, 0, 0, 0, 0, 0, 0, 0, 0, 0, 0, 0, 0, 0, 0, 0, 0, 0, 0, 0, 0, 0, 0, 0, 0, 0, 0, 0, 0, 0, 0, 0, 0, 0, 0, 0, 0, 0, 0, 0, 0, 0, 0, 0, 0, 0, 0, 0, 0, 0, 0, 0, 0, 0, 0, 0, 0, 0, 0, 0, 0, 0, 0, 0, 0, 0, 0, 0, 0, 0, 0, 0, 0, 0, 0, 0, 0, 0, 0, 1, 1, 0, 0, 0, 0, 0, 0, 0, 0, 0, 0, 0, 0, 0, 0, 0, 0, 0, 0, 0, 0, 0, 0, 0, 0, 0, 0, 0, 0, 0, 0, 0, 1, 0, 0, 0, 0, 0, 0, 0, 0, 0, 0, 0, 0, 0, 0, 0, 0, 0, 0, 0, 0, 0, 0, 0, 0, 0, 0, 0, 0, 0, 0, 0, 0, 0, 0, 0, 0, 0, 0, 0, 0, 0, 0, 0, 0, 0, 0, 0, 0, 0, 0, 0, 0, 0, 0, 0, 0, 0, 0, 0, 0, 0, 0, 0, 0, 0, 0, 0, 0, 0, 0, 0, 0, 0, 0, 0, 0, 0, 0, 0, 0, 0, 0, 0, 0, 0, 0, 0, 0, 0, 0, 0, 0, 0, 0, 0, 0, 0, 0, 0, 0, 0, 0, 0, 0, 0, 0, 0, 0, 0, 0, 0, 0, 0, 0, 0, 0, 0, 0, 0, 0, 0, 0, 0, 0, 0, 0, 0, 0, 0, 0, 0, 0, 0, 0, 0, 0, 0, 0, 0, 0, 0, 0, 0, 0, 0, 0, 0, 0, 0, 0, 0, 0, 0, 0, 0, 0, 0, 0, 0, 0, 0, 0, 0, 0, 0, 0, 0, 0, 0, 0, 0, 0, 0, 0, 0, 0, 0, 0, 0, 0, 0, 0, 0, 0, 0, 0, 0, 0, 0, 0, 0, 0, 0, 0, 0, 0, 0, 0, 0, 0, 0, 0, 0, 0, 0, 0, 0, 0, 0, 0, 0, 0, 0, 0, 0, 0, 0, 0, 0, 0, 0, 0, 0, 0, 0, 0, 0, 0, 0, 0, 0, 0, 0, 0, 0, 0, 0, 0, 0, 0, 0, 0, 0, 0, 0, 0, 0, 0, 0, 0, 0, 0, 0, 0, 0, 0, 0, 0, 0, 0, 0, 0, 0, 0, 0, 0, 0, 0, 0, 0, 0, 0, 0, 0, 0, 0, 0, 0, 0, 0, 0, 0, 0, 0, 0, 0, 0, 0, 0, 0, 0, 0, 0, 0, 0, 0, 0, 0, 0, 0, 0, 0, 0, 0, 0, 0, 0, 0, 0, 0, 0, 0, 0, 0, 0, 0, 0, 0, 0, 0, 0, 0, 0, 0, 0, 0, 0, 0, 0, 0, 0, 0, 0, 0, 0, 0, 0, 0, 0, 0, 0, 0, 0, 0, 1, 0, 0, 0, 0, 0, 0, 0, 1, 0, 1, 0, 1, 1, 0, 0, 0, 0, 1, 0, 1, 0, 1, 0, 0, 0, 1, 1, 0, 0, 0, 0, 0, 0, 1, 0, 1, 1, 0, 0, 0, 0, 1, 1, 0, 0, 1, 0, 1, 0, 1, 1, 0, 0, 1, 1, 0, 0, 1, 1, 0, 0, 1, 0, 1, 1, 0, 0, 1, 0, 1, 0, 1, 0, 1, 0, 1, 0, 1, 0, 1, 1, 0, 0, 1, 1, 1, 0, 0, 0, 1, 0, 1, 0, 0, 0, 1, 1, 0, 0, 1, 1, 0, 0, 1, 1, 1, 0, 1, 0, 1, 1, 0, 0, 1, 1, 0, 0, 1, 0, 1, 0, 1, 0, 0, 0, 1, 1, 0, 0, 1, 1, 0, 0, 0, 0, 1, 0, 0, 0, 1, 1, 0, 0, 1, 1, 0, 0, 1, 0, 1, 0, 1, 1, 0, 0, 0, 0, 1, 0, 1, 1, 0, 0, 0, 0, 1, 1, 0, 0, 0, 0, 1, 1, 0, 0, 0, 0, 1, 1, 0, 0, 0, 0, 0, 0, 0, 0, 0, 0, 1, 0, 1, 0, 1, 1, 0, 0, 1, 1, 0, 0, 1, 0, 0, 0, 1, 1, 1, 0, 1, 0, 1, 0, 0, 0, 1, 0, 1, 1, 0, 0, 1, 1, 0, 0, 0, 0, 1, 0, 1, 1, 0, 0, 1, 0, 1, 1, 1, 0, 1, 1, 0, 0, 1, 0, 0, 0, 0, 0, 0, 0, 1, 0, 1, 1, 0, 0, 1, 1, 1, 0, 0, 0, 1, 0, 1, 0, 1, 0, 1, 0, 0, 0, 0, 0, 0, 0, 1, 1, 0, 0, 0, 0, 0, 0, 0, 0, 0, 0, 1, 1, 0, 0, 0, 0, 1, 0, 1, 1, 1, 1, 0, 0, 1, 1, 1, 0, 1, 1, 0, 0, 1, 0, 1, 0, 1, 0, 1, 1, 0, 0, 1, 0, 0, 0, 1, 0, 0, 0, 1, 0, 1, 0, 1, 1, 1, 0, 1, 1, 1, 0, 1, 1, 1, 0, 1, 0, 1, 1, 0, 0, 0, 0, 1, 0, 1, 0, 0, 0, 1, 0, 1, 1, 0, 0, 0, 0, 0, 0, 0, 0, 0, 0, 0, 0, 1, 1, 0, 0, 1, 0, 0, 0, 1, 1, 0, 0, 1, 0, 0, 0, 0, 0, 1, 0, 0, 0, 1, 0, 1, 1, 0, 0, 0, 0, 1, 0, 1, 1, 0, 0, 1, 0, 0, 0, 1, 0, 0, 0, 1, 1, 0, 0, 0, 0, 1, 0, 1, 0, 1, 0, 1, 0, 1, 1, 0, 0, 0, 0, 1, 0, 1, 0, 1, 0, 1, 0, 1, 1, 0, 0, 1, 0, 1, 1, 0, 0, 0, 0, 1, 0, 1, 1, 1, 0, 1, 0, 1, 0, 1, 0, 1, 1, 0, 0, 0, 0, 1, 0, 1, 0, 0, 0, 1, 1, 0, 0, 0, 0, 0, 0, 0, 0, 0, 0, 1, 1, 0, 0, 0, 0, 0, 0, 1, 1, 0, 0, 1, 1, 0, 0, 1, 0, 1, 1, 0, 0, 0, 0, 0, 0, 0, 0, 0, 0, 0, 0, 1, 0, 1, 0, 0, 0, 1, 0, 1, 0, 1, 0, 1, 0, 1, 0, 1, 1, 0, 0, 1, 0, 1, 0, 1, 1, 0, 0, 0, 0, 0, 0, 1, 0, 1, 1, 0, 0, 0, 0, 0, 0, 1, 0, 0, 0, 0, 0, 1, 0, 1, 0, 1, 0, 1, 1, 0, 0, 0, 0, 1, 0, 1, 0, 1, 1, 0, 0, 1, 0, 1, 0, 1, 1, 0, 0, 1, 1, 0, 0, 1, 1, 1, 1, 1, 0, 1, 0, 1, 1, 0, 0, 1, 1, 1, 0, 1, 0, 1, 0, 1, 1, 0, 1, 1, 1, 1, 1, 1, 0, 1, 0, 1, 0, 1, 0, 0, 1, 1, 0, 0, 0, 0, 0, 0, 0, 0, 0, 1, 0, 1, 0, 1, 1, 0, 0, 1, 1, 0, 0, 1, 0, 1, 1, 0, 0, 0, 0, 1, 0, 1, 0, 1, 1, 0, 0, 0, 0, 1, 0, 1, 1, 0, 0, 0, 0, 0, 0, 1, 0, 1, 0, 0, 0, 0, 0, 0, 0, 0, 0, 0, 0, 0, 0, 0, 0, 0, 0, 0, 0, 0, 0, 0, 0, 0, 0, 0, 0, 0, 0, 0, 0, 0, 0, 0, 0, 0, 0, 0, 0, 0, 0, 0, 0, 0, 0, 0, 0, 0, 0, 0, 0, 0, 0, 0, 0, 0, 0, 1, 0, 0, 0, 1, 0, 0, 0, 1, 1, 0, 0, 0, 0, 1, 1, 0, 0, 0, 0, 1, 1, 0, 0, 0, 0, 1, 0, 0, 0, 0, 0, 1, 0, 0, 0, 0, 0, 0, 0, 0]))]\n"
     ]
    }
   ],
   "source": [
    "readid = \"734ded81-f609-4d63-a478-3f0872bdb5ea\" # 2\n",
    "readid = \"bba02759-be87-4056-80bb-8a51bb6b427e\" # 1\n",
    "readid = \"a2c71395-9648-4a75-8f61-318e8b162d1e\"\n",
    "readid = \"1398428a-08f2-4f7b-8461-716b051d8f97\"\n",
    "readid = \"806b97b5-c4f2-4982-870e-1ca3ca4203c8\"\n",
    "readid = \"7cdd9d6e-4d2b-4403-a9e9-44e9179d1d8e\"\n",
    "for a in sam: \n",
    "    if a.flag&2308: continue\n",
    "    if a.qname==readid: break\n",
    "print(a)"
   ]
  },
  {
   "cell_type": "code",
   "execution_count": 159,
   "id": "37565cbf-b0e8-4d2e-aab7-304ddc9e9654",
   "metadata": {},
   "outputs": [
    {
     "name": "stdout",
     "output_type": "stream",
     "text": [
      "TGTTTATGTCACTGTACTCGTATTTGCTAAGGTTAACTTACTACCCAGTGAACCTCCTCGCAGCACCTACTTGCCTGTCGCTCTATCTGCAGAGCAGAG\n",
      "98 3 99 \n",
      "0 0 \n"
     ]
    },
    {
     "data": {
      "text/plain": [
       "(-10.0, 3.6208920187793425, 0, 0, '', '', 78, 1.0, '39=3S')"
      ]
     },
     "execution_count": 159,
     "metadata": {},
     "output_type": "execute_result"
    }
   ],
   "source": [
    "import parasail, re\n",
    "import numpy as np\n",
    "\n",
    "primer = \"CAGCACCT\"+\"ACTTGCCTGTCGCTCTATCTGCAGAGCAGAG\"+\"TTT\"\n",
    "minscore=20\n",
    "scoring=(2, 3, 3, 2)\n",
    "match_score, mismatch_penalty, open_penalty, extend_penalty = scoring\n",
    "matrix = parasail.matrix_create(\"ACGT\", match_score, -mismatch_penalty)\n",
    "profile = parasail.profile_create_16(primer, matrix)\n",
    "\n",
    "def correct_alg(cigar, ts, qs, w=6, k=3, pat=re.compile(r'\\d+')):\n",
    "    \"\"\"Correct alignment skipping initial deletion\n",
    "    \n",
    "    Return corrected: \n",
    "    - cigar \n",
    "    - target start\n",
    "    - query start\n",
    "    - number of anchors\n",
    "    - edit distance (NM)\n",
    "    - aligned query bases\n",
    "    \"\"\"\n",
    "    idx = n_anchors = nm = qalg = talg = 0\n",
    "    pe = 0\n",
    "    diff = w-k\n",
    "    for i, m in enumerate(pat.finditer(cigar)):\n",
    "        e = m.end()\n",
    "        l = int(cigar[pe:e])\n",
    "        op = cigar[e:e+1]\n",
    "        pe = e+1\n",
    "        # skip initial deletion\n",
    "        if i==0 and op in \"ID\":\n",
    "            idx = pe\n",
    "            if op == \"D\": ts += l\n",
    "            elif op == \"I\": qs += l\n",
    "        # update number of anchors\n",
    "        elif op==\"=\":\n",
    "            n = (l-diff) // k\n",
    "            if n>0:\n",
    "                n_anchors += n\n",
    "            qalg += l\n",
    "            talg += l\n",
    "        # count mismatches\n",
    "        elif op!=\"S\":\n",
    "            nm += l\n",
    "            if op!=\"D\": qalg += l\n",
    "            if op!=\"I\": talg += l\n",
    "    return cigar[idx:], ts, qs, n_anchors, nm, qalg, talg\n",
    "\n",
    "def get_pt_boundaries(seq, pt_start, max_start=10, pat=re.compile(r'((T{1,}\\w?)+)', re.IGNORECASE)):\n",
    "    start = end = 0\n",
    "    for m in pat.finditer(seq[pt_start:]): # pt_start+after\n",
    "        s, e = m.span()\n",
    "        if s>max_start: continue\n",
    "        if e-s > end - start:\n",
    "            start, end = s + pt_start, e + pt_start - 1\n",
    "    return start, end\n",
    "\n",
    "def alg2pt(a, primer, profile, open_penalty, extend_penalty, extension=5, analyse_first=250, verbose=True):\n",
    "    \"\"\"Return sequence flanking pt, pt start, pt end, pt length, pt sequence, alignment score, identity and cigar\"\"\"\n",
    "    # get size of clipped region of the read (from the 5' read end)\n",
    "    clipped = 0\n",
    "    if a.cigar:\n",
    "        idx = -1 if a.is_reverse else 0\n",
    "        clipped = a.cigar[idx][1] if a.cigar[idx][0]==4 else 0\n",
    "    if clipped<len(primer):\n",
    "        return 0, 0, 0, 0, \"\", \"\", 0, 0, \"\"\n",
    "    # get forward sequence of a read trimming aligned part\n",
    "    seq = a.get_forward_sequence()[:min(analyse_first, clipped)]\n",
    "    if verbose: print(seq)\n",
    "    # find primer in the read sequence\n",
    "    r = parasail.sw_trace_striped_profile_16(profile, seq, open_penalty, extend_penalty) # 41.6 µs vs 13.4 µs :200\n",
    "    # filter TODO: scoring\n",
    "    #if r.score<50: continue\n",
    "    cigar = r.cigar.decode.decode() # 2.62 µs\n",
    "    score, ts, te, qs, qe = r.score, r.cigar.beg_ref, r.end_ref, r.cigar.beg_query, r.end_query\n",
    "    cigar, ts, qs, m, nm, qalg, talg = correct_alg(cigar, ts, qs) # 2.6 µs\n",
    "    # get polyT length in bases\n",
    "    end_skip = len(primer)-qe-1\n",
    "    if qs: cigar = f\"{qs}S\" + cigar\n",
    "    if end_skip: cigar += f\"{end_skip}S\"\n",
    "    pt_start = te + end_skip - 2\n",
    "    if verbose: print(te, end_skip, pt_start, seq[pt_start:])\n",
    "    # get pt boundaries\n",
    "    s, e = get_pt_boundaries(seq, pt_start-1)\n",
    "    if verbose: print(s, e, seq[s:e])\n",
    "    # unload tags\n",
    "    tags = {k: v for k, v in a.tags}\n",
    "    identity = round(1-nm/qalg, 3)\n",
    "    mv = np.array(tags['mv'])\n",
    "    stride, move = mv[0], mv[1:]\n",
    "    move_pos = np.argwhere(move==1).flatten()\n",
    "    steps = move_pos[1:]-move_pos[:-1]\n",
    "    per_base = steps[e+extension+1:].mean()\n",
    "    pt_len = round(steps[s-extension:e+extension+1].sum()/per_base - 2*extension, 1)\n",
    "    #return seq[pt_start-10:pt_start+50], s, e, pt_len, seq[s:e], r.score, identity, cigar\n",
    "    return pt_len, per_base, s, e, seq[s-10:s], seq[s:e], r.score, identity, cigar\n",
    "\n",
    "alg2pt(a, primer, profile, open_penalty, extend_penalty)"
   ]
  },
  {
   "cell_type": "code",
   "execution_count": 17,
   "id": "d2930a69-c9f4-4797-a6f3-a5fdb2999651",
   "metadata": {},
   "outputs": [
    {
     "data": {
      "text/plain": [
       "'TGTCTACCTCGTTGAGTTACGTATTGCTAAGGTTAAGCATAGTTCTGCATGATGGGTTAGCAGCACCTACTTGCCTGTCGCTCTATCTGCAGAGCAGAGTAAAAAAAAAAAAAAAATTCTTTTTTTTTT'"
      ]
     },
     "execution_count": 17,
     "metadata": {},
     "output_type": "execute_result"
    }
   ],
   "source": [
    "# get forward sequence of a read trimming aligned part\n",
    "seq = a.get_forward_sequence()[:min(analyse_first, clipped)]; seq"
   ]
  },
  {
   "cell_type": "code",
   "execution_count": 150,
   "id": "07cad9b1-c49b-427a-b02f-debbf17f90dd",
   "metadata": {},
   "outputs": [
    {
     "data": {
      "text/plain": [
       "[('TTTa', 'TTTa')]"
      ]
     },
     "execution_count": 150,
     "metadata": {},
     "output_type": "execute_result"
    }
   ],
   "source": [
    "pat=re.compile(r'((T{2,}\\w?)+)', re.IGNORECASE)\n",
    "seq = \"TATTTatg\"\n",
    "pat.findall(seq)\n",
    "#pat.findall(\"TATTT\")"
   ]
  },
  {
   "cell_type": "code",
   "execution_count": null,
   "id": "a991c565-23e1-4fd4-85b0-dfd6c009938d",
   "metadata": {},
   "outputs": [],
   "source": []
  },
  {
   "cell_type": "code",
   "execution_count": 55,
   "id": "0e6a06fc-327b-496a-a0ab-56c4aa03a914",
   "metadata": {},
   "outputs": [
    {
     "data": {
      "text/plain": [
       "[('TTACTTTTCT', 'TTTTCT'), ('TTTTT', 'TTTTT')]"
      ]
     },
     "execution_count": 55,
     "metadata": {},
     "output_type": "execute_result"
    }
   ],
   "source": [
    "pat=re.compile(r'((T{2,}\\w\\w?|T{1,}\\w?)+)', re.IGNORECASE)\n",
    "pat.findall(\"TTACTTTTCTATTTTT\")"
   ]
  },
  {
   "cell_type": "code",
   "execution_count": 69,
   "id": "c37f21d2-06f2-49e5-bc09-55456d40bb96",
   "metadata": {},
   "outputs": [
    {
     "data": {
      "text/plain": [
       "[('TTA', 'TTA'), ('TTTTC', 'TTTTC'), ('TTTTT', 'TTTTT')]"
      ]
     },
     "execution_count": 69,
     "metadata": {},
     "output_type": "execute_result"
    }
   ],
   "source": [
    "pat=re.compile(r'((T{2,}\\w?)+)', re.IGNORECASE)\n",
    "pat.findall(\"TTACTTTTCTATTTTT\")"
   ]
  },
  {
   "cell_type": "code",
   "execution_count": 52,
   "id": "d14b6193-e2fc-45a1-8268-641aa33deb2d",
   "metadata": {},
   "outputs": [
    {
     "data": {
      "text/plain": [
       "(0, 14)"
      ]
     },
     "execution_count": 52,
     "metadata": {},
     "output_type": "execute_result"
    }
   ],
   "source": [
    "matches = sorted(pat.finditer(\"TTACTTTTTTTTTT\"), key=lambda m: m.end()-m.start())\n",
    "m = matches[-1]; m.span()"
   ]
  }
 ],
 "metadata": {
  "kernelspec": {
   "display_name": "Python 3 (ipykernel)",
   "language": "python",
   "name": "python3"
  },
  "language_info": {
   "codemirror_mode": {
    "name": "ipython",
    "version": 3
   },
   "file_extension": ".py",
   "mimetype": "text/x-python",
   "name": "python",
   "nbconvert_exporter": "python",
   "pygments_lexer": "ipython3",
   "version": "3.10.13"
  }
 },
 "nbformat": 4,
 "nbformat_minor": 5
}
